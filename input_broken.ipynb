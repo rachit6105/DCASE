{
 "cells": [
  {
   "cell_type": "code",
   "execution_count": 2,
   "metadata": {},
   "outputs": [],
   "source": [
    "import numpy as np\n",
    "import librosa\n",
    "import librosa.display\n",
    "import pandas as pd\n",
    "import matplotlib.pyplot as plt\n",
    "import seaborn as sns\n",
    "import tqdm\n",
    "import os\n",
    "from sklearn.manifold import TSNE\n",
    "from sklearn.decomposition import PCA\n",
    "from sklearn.preprocessing import StandardScaler"
   ]
  },
  {
   "cell_type": "code",
   "execution_count": 3,
   "metadata": {},
   "outputs": [
    {
     "name": "stdout",
     "output_type": "stream",
     "text": [
      "Index(['Filename', 'File ID', 'Duration in ms', 'Class ID', 'Classname',\n",
      "       'augmentation  id', 'Augmentation  type', 'source'],\n",
      "      dtype='object')\n"
     ]
    },
    {
     "data": {
      "text/html": [
       "<div>\n",
       "<style scoped>\n",
       "    .dataframe tbody tr th:only-of-type {\n",
       "        vertical-align: middle;\n",
       "    }\n",
       "\n",
       "    .dataframe tbody tr th {\n",
       "        vertical-align: top;\n",
       "    }\n",
       "\n",
       "    .dataframe thead th {\n",
       "        text-align: right;\n",
       "    }\n",
       "</style>\n",
       "<table border=\"1\" class=\"dataframe\">\n",
       "  <thead>\n",
       "    <tr style=\"text-align: right;\">\n",
       "      <th></th>\n",
       "      <th>Filename</th>\n",
       "      <th>File ID</th>\n",
       "      <th>Duration in ms</th>\n",
       "      <th>Class ID</th>\n",
       "      <th>Classname</th>\n",
       "      <th>augmentation  id</th>\n",
       "      <th>Augmentation  type</th>\n",
       "      <th>source</th>\n",
       "    </tr>\n",
       "  </thead>\n",
       "  <tbody>\n",
       "    <tr>\n",
       "      <th>0</th>\n",
       "      <td>108160-1_0_0.wav</td>\n",
       "      <td>108160</td>\n",
       "      <td>3730</td>\n",
       "      <td>0</td>\n",
       "      <td>breath</td>\n",
       "      <td>0</td>\n",
       "      <td>Orignal</td>\n",
       "      <td>https://freesound.org/</td>\n",
       "    </tr>\n",
       "    <tr>\n",
       "      <th>1</th>\n",
       "      <td>108160-2_0_0.wav</td>\n",
       "      <td>108160</td>\n",
       "      <td>4000</td>\n",
       "      <td>0</td>\n",
       "      <td>breath</td>\n",
       "      <td>0</td>\n",
       "      <td>Orignal</td>\n",
       "      <td>https://freesound.org/</td>\n",
       "    </tr>\n",
       "    <tr>\n",
       "      <th>2</th>\n",
       "      <td>108160-3_0_0.wav</td>\n",
       "      <td>108160</td>\n",
       "      <td>4000</td>\n",
       "      <td>0</td>\n",
       "      <td>breath</td>\n",
       "      <td>0</td>\n",
       "      <td>Orignal</td>\n",
       "      <td>https://freesound.org/</td>\n",
       "    </tr>\n",
       "    <tr>\n",
       "      <th>3</th>\n",
       "      <td>108160-4_0_0.wav</td>\n",
       "      <td>108160</td>\n",
       "      <td>2226</td>\n",
       "      <td>0</td>\n",
       "      <td>breath</td>\n",
       "      <td>0</td>\n",
       "      <td>Orignal</td>\n",
       "      <td>https://freesound.org/</td>\n",
       "    </tr>\n",
       "    <tr>\n",
       "      <th>4</th>\n",
       "      <td>146769-1_0_0.wav</td>\n",
       "      <td>146769</td>\n",
       "      <td>3540</td>\n",
       "      <td>0</td>\n",
       "      <td>breath</td>\n",
       "      <td>0</td>\n",
       "      <td>Orignal</td>\n",
       "      <td>https://freesound.org/</td>\n",
       "    </tr>\n",
       "    <tr>\n",
       "      <th>5</th>\n",
       "      <td>151215_0_0.wav</td>\n",
       "      <td>151215</td>\n",
       "      <td>3690</td>\n",
       "      <td>0</td>\n",
       "      <td>breath</td>\n",
       "      <td>0</td>\n",
       "      <td>Orignal</td>\n",
       "      <td>https://freesound.org/</td>\n",
       "    </tr>\n",
       "    <tr>\n",
       "      <th>6</th>\n",
       "      <td>162254-1_0_0.wav</td>\n",
       "      <td>162254</td>\n",
       "      <td>4000</td>\n",
       "      <td>0</td>\n",
       "      <td>breath</td>\n",
       "      <td>0</td>\n",
       "      <td>Orignal</td>\n",
       "      <td>https://freesound.org/</td>\n",
       "    </tr>\n",
       "    <tr>\n",
       "      <th>7</th>\n",
       "      <td>162254-2_0_0.wav</td>\n",
       "      <td>162254</td>\n",
       "      <td>4000</td>\n",
       "      <td>0</td>\n",
       "      <td>breath</td>\n",
       "      <td>0</td>\n",
       "      <td>Orignal</td>\n",
       "      <td>https://freesound.org/</td>\n",
       "    </tr>\n",
       "    <tr>\n",
       "      <th>8</th>\n",
       "      <td>164101-32_0_0.wav</td>\n",
       "      <td>164101</td>\n",
       "      <td>3860</td>\n",
       "      <td>0</td>\n",
       "      <td>breath</td>\n",
       "      <td>0</td>\n",
       "      <td>Orignal</td>\n",
       "      <td>https://freesound.org/</td>\n",
       "    </tr>\n",
       "    <tr>\n",
       "      <th>9</th>\n",
       "      <td>169222-1_0_0.wav</td>\n",
       "      <td>169222</td>\n",
       "      <td>3690</td>\n",
       "      <td>0</td>\n",
       "      <td>breath</td>\n",
       "      <td>0</td>\n",
       "      <td>Orignal</td>\n",
       "      <td>https://freesound.org/</td>\n",
       "    </tr>\n",
       "  </tbody>\n",
       "</table>\n",
       "</div>"
      ],
      "text/plain": [
       "            Filename File ID  Duration in ms  Class ID Classname  \\\n",
       "0   108160-1_0_0.wav  108160            3730         0    breath   \n",
       "1   108160-2_0_0.wav  108160            4000         0    breath   \n",
       "2   108160-3_0_0.wav  108160            4000         0    breath   \n",
       "3   108160-4_0_0.wav  108160            2226         0    breath   \n",
       "4   146769-1_0_0.wav  146769            3540         0    breath   \n",
       "5     151215_0_0.wav  151215            3690         0    breath   \n",
       "6   162254-1_0_0.wav  162254            4000         0    breath   \n",
       "7   162254-2_0_0.wav  162254            4000         0    breath   \n",
       "8  164101-32_0_0.wav  164101            3860         0    breath   \n",
       "9   169222-1_0_0.wav  169222            3690         0    breath   \n",
       "\n",
       "   augmentation  id Augmentation  type                  source  \n",
       "0                 0            Orignal  https://freesound.org/  \n",
       "1                 0            Orignal  https://freesound.org/  \n",
       "2                 0            Orignal  https://freesound.org/  \n",
       "3                 0            Orignal  https://freesound.org/  \n",
       "4                 0            Orignal  https://freesound.org/  \n",
       "5                 0            Orignal  https://freesound.org/  \n",
       "6                 0            Orignal  https://freesound.org/  \n",
       "7                 0            Orignal  https://freesound.org/  \n",
       "8                 0            Orignal  https://freesound.org/  \n",
       "9                 0            Orignal  https://freesound.org/  "
      ]
     },
     "execution_count": 3,
     "metadata": {},
     "output_type": "execute_result"
    }
   ],
   "source": [
    "df_train = pd.read_csv('metadata of train set .csv')\n",
    "print(df_train.columns)\n",
    "df_train.head(10)"
   ]
  },
  {
   "cell_type": "code",
   "execution_count": 4,
   "metadata": {},
   "outputs": [
    {
     "name": "stderr",
     "output_type": "stream",
     "text": [
      "Processing Audio:  23%|██▎       | 1456/6289 [04:45<15:47,  5.10it/s]\n"
     ]
    },
    {
     "ename": "KeyboardInterrupt",
     "evalue": "",
     "output_type": "error",
     "traceback": [
      "\u001b[1;31m---------------------------------------------------------------------------\u001b[0m",
      "\u001b[1;31mKeyboardInterrupt\u001b[0m                         Traceback (most recent call last)",
      "Cell \u001b[1;32mIn[4], line 52\u001b[0m\n\u001b[0;32m     50\u001b[0m y, sr \u001b[38;5;241m=\u001b[39m librosa\u001b[38;5;241m.\u001b[39mload(path, sr\u001b[38;5;241m=\u001b[39m\u001b[38;5;28;01mNone\u001b[39;00m)  \u001b[38;5;66;03m# Keep original sample rate\u001b[39;00m\n\u001b[0;32m     51\u001b[0m y_trimmed, _ \u001b[38;5;241m=\u001b[39m librosa\u001b[38;5;241m.\u001b[39meffects\u001b[38;5;241m.\u001b[39mtrim(y, top_db\u001b[38;5;241m=\u001b[39m\u001b[38;5;241m20\u001b[39m)  \u001b[38;5;66;03m# Trim silent parts\u001b[39;00m\n\u001b[1;32m---> 52\u001b[0m extracted_features \u001b[38;5;241m=\u001b[39m \u001b[43mextract_features\u001b[49m\u001b[43m(\u001b[49m\u001b[43my\u001b[49m\u001b[43m,\u001b[49m\u001b[43msr\u001b[49m\u001b[43m)\u001b[49m\n\u001b[0;32m     53\u001b[0m features\u001b[38;5;241m.\u001b[39mappend(extracted_features)\n\u001b[0;32m     54\u001b[0m labels\u001b[38;5;241m.\u001b[39mappend(row[\u001b[38;5;124m'\u001b[39m\u001b[38;5;124mClass ID\u001b[39m\u001b[38;5;124m'\u001b[39m])\n",
      "Cell \u001b[1;32mIn[4], line 21\u001b[0m, in \u001b[0;36mextract_features\u001b[1;34m(y, sr, n_mfcc, n_mels)\u001b[0m\n\u001b[0;32m     19\u001b[0m \u001b[38;5;66;03m# **Spectral Features**\u001b[39;00m\n\u001b[0;32m     20\u001b[0m spectral_centroid \u001b[38;5;241m=\u001b[39m np\u001b[38;5;241m.\u001b[39mmean(librosa\u001b[38;5;241m.\u001b[39mfeature\u001b[38;5;241m.\u001b[39mspectral_centroid(y\u001b[38;5;241m=\u001b[39my, sr\u001b[38;5;241m=\u001b[39msr))  \u001b[38;5;66;03m# (1,)\u001b[39;00m\n\u001b[1;32m---> 21\u001b[0m spectral_bandwidth \u001b[38;5;241m=\u001b[39m np\u001b[38;5;241m.\u001b[39mmean(\u001b[43mlibrosa\u001b[49m\u001b[38;5;241;43m.\u001b[39;49m\u001b[43mfeature\u001b[49m\u001b[38;5;241;43m.\u001b[39;49m\u001b[43mspectral_bandwidth\u001b[49m\u001b[43m(\u001b[49m\u001b[43my\u001b[49m\u001b[38;5;241;43m=\u001b[39;49m\u001b[43my\u001b[49m\u001b[43m,\u001b[49m\u001b[43m \u001b[49m\u001b[43msr\u001b[49m\u001b[38;5;241;43m=\u001b[39;49m\u001b[43msr\u001b[49m\u001b[43m)\u001b[49m)  \u001b[38;5;66;03m# (1,)\u001b[39;00m\n\u001b[0;32m     22\u001b[0m spectral_rolloff \u001b[38;5;241m=\u001b[39m np\u001b[38;5;241m.\u001b[39mmean(librosa\u001b[38;5;241m.\u001b[39mfeature\u001b[38;5;241m.\u001b[39mspectral_rolloff(y\u001b[38;5;241m=\u001b[39my, sr\u001b[38;5;241m=\u001b[39msr))  \u001b[38;5;66;03m# (1,)\u001b[39;00m\n\u001b[0;32m     24\u001b[0m \u001b[38;5;66;03m# **Pitch (Fundamental Frequency)**\u001b[39;00m\n",
      "File \u001b[1;32mc:\\Users\\91820\\AppData\\Local\\Programs\\Python\\Python312\\Lib\\site-packages\\librosa\\feature\\spectral.py:327\u001b[0m, in \u001b[0;36mspectral_bandwidth\u001b[1;34m(y, sr, S, n_fft, hop_length, win_length, window, center, pad_mode, freq, centroid, norm, p)\u001b[0m\n\u001b[0;32m    325\u001b[0m \u001b[38;5;66;03m# centroid or center?\u001b[39;00m\n\u001b[0;32m    326\u001b[0m \u001b[38;5;28;01mif\u001b[39;00m centroid \u001b[38;5;129;01mis\u001b[39;00m \u001b[38;5;28;01mNone\u001b[39;00m:\n\u001b[1;32m--> 327\u001b[0m     centroid \u001b[38;5;241m=\u001b[39m \u001b[43mspectral_centroid\u001b[49m\u001b[43m(\u001b[49m\n\u001b[0;32m    328\u001b[0m \u001b[43m        \u001b[49m\u001b[43my\u001b[49m\u001b[38;5;241;43m=\u001b[39;49m\u001b[43my\u001b[49m\u001b[43m,\u001b[49m\u001b[43m \u001b[49m\u001b[43msr\u001b[49m\u001b[38;5;241;43m=\u001b[39;49m\u001b[43msr\u001b[49m\u001b[43m,\u001b[49m\u001b[43m \u001b[49m\u001b[43mS\u001b[49m\u001b[38;5;241;43m=\u001b[39;49m\u001b[43mS\u001b[49m\u001b[43m,\u001b[49m\u001b[43m \u001b[49m\u001b[43mn_fft\u001b[49m\u001b[38;5;241;43m=\u001b[39;49m\u001b[43mn_fft\u001b[49m\u001b[43m,\u001b[49m\u001b[43m \u001b[49m\u001b[43mhop_length\u001b[49m\u001b[38;5;241;43m=\u001b[39;49m\u001b[43mhop_length\u001b[49m\u001b[43m,\u001b[49m\u001b[43m \u001b[49m\u001b[43mfreq\u001b[49m\u001b[38;5;241;43m=\u001b[39;49m\u001b[43mfreq\u001b[49m\n\u001b[0;32m    329\u001b[0m \u001b[43m    \u001b[49m\u001b[43m)\u001b[49m\n\u001b[0;32m    331\u001b[0m \u001b[38;5;66;03m# Compute the center frequencies of each bin\u001b[39;00m\n\u001b[0;32m    332\u001b[0m \u001b[38;5;28;01mif\u001b[39;00m freq \u001b[38;5;129;01mis\u001b[39;00m \u001b[38;5;28;01mNone\u001b[39;00m:\n",
      "File \u001b[1;32mc:\\Users\\91820\\AppData\\Local\\Programs\\Python\\Python312\\Lib\\site-packages\\librosa\\feature\\spectral.py:185\u001b[0m, in \u001b[0;36mspectral_centroid\u001b[1;34m(y, sr, S, n_fft, hop_length, freq, win_length, window, center, pad_mode)\u001b[0m\n\u001b[0;32m    182\u001b[0m     freq \u001b[38;5;241m=\u001b[39m util\u001b[38;5;241m.\u001b[39mexpand_to(freq, ndim\u001b[38;5;241m=\u001b[39mS\u001b[38;5;241m.\u001b[39mndim, axes\u001b[38;5;241m=\u001b[39m\u001b[38;5;241m-\u001b[39m\u001b[38;5;241m2\u001b[39m)\n\u001b[0;32m    184\u001b[0m \u001b[38;5;66;03m# Column-normalize S\u001b[39;00m\n\u001b[1;32m--> 185\u001b[0m centroid: np\u001b[38;5;241m.\u001b[39mndarray \u001b[38;5;241m=\u001b[39m \u001b[43mnp\u001b[49m\u001b[38;5;241;43m.\u001b[39;49m\u001b[43msum\u001b[49m\u001b[43m(\u001b[49m\n\u001b[0;32m    186\u001b[0m \u001b[43m    \u001b[49m\u001b[43mfreq\u001b[49m\u001b[43m \u001b[49m\u001b[38;5;241;43m*\u001b[39;49m\u001b[43m \u001b[49m\u001b[43mutil\u001b[49m\u001b[38;5;241;43m.\u001b[39;49m\u001b[43mnormalize\u001b[49m\u001b[43m(\u001b[49m\u001b[43mS\u001b[49m\u001b[43m,\u001b[49m\u001b[43m \u001b[49m\u001b[43mnorm\u001b[49m\u001b[38;5;241;43m=\u001b[39;49m\u001b[38;5;241;43m1\u001b[39;49m\u001b[43m,\u001b[49m\u001b[43m \u001b[49m\u001b[43maxis\u001b[49m\u001b[38;5;241;43m=\u001b[39;49m\u001b[38;5;241;43m-\u001b[39;49m\u001b[38;5;241;43m2\u001b[39;49m\u001b[43m)\u001b[49m\u001b[43m,\u001b[49m\u001b[43m \u001b[49m\u001b[43maxis\u001b[49m\u001b[38;5;241;43m=\u001b[39;49m\u001b[38;5;241;43m-\u001b[39;49m\u001b[38;5;241;43m2\u001b[39;49m\u001b[43m,\u001b[49m\u001b[43m \u001b[49m\u001b[43mkeepdims\u001b[49m\u001b[38;5;241;43m=\u001b[39;49m\u001b[38;5;28;43;01mTrue\u001b[39;49;00m\n\u001b[0;32m    187\u001b[0m \u001b[43m\u001b[49m\u001b[43m)\u001b[49m\n\u001b[0;32m    188\u001b[0m \u001b[38;5;28;01mreturn\u001b[39;00m centroid\n",
      "File \u001b[1;32mc:\\Users\\91820\\AppData\\Local\\Programs\\Python\\Python312\\Lib\\site-packages\\numpy\\core\\fromnumeric.py:2172\u001b[0m, in \u001b[0;36m_sum_dispatcher\u001b[1;34m(a, axis, dtype, out, keepdims, initial, where)\u001b[0m\n\u001b[0;32m   2102\u001b[0m \u001b[38;5;250m    \u001b[39m\u001b[38;5;124;03m\"\"\"\u001b[39;00m\n\u001b[0;32m   2103\u001b[0m \u001b[38;5;124;03m    Clip (limit) the values in an array.\u001b[39;00m\n\u001b[0;32m   2104\u001b[0m \n\u001b[1;32m   (...)\u001b[0m\n\u001b[0;32m   2167\u001b[0m \n\u001b[0;32m   2168\u001b[0m \u001b[38;5;124;03m    \"\"\"\u001b[39;00m\n\u001b[0;32m   2169\u001b[0m     \u001b[38;5;28;01mreturn\u001b[39;00m _wrapfunc(a, \u001b[38;5;124m'\u001b[39m\u001b[38;5;124mclip\u001b[39m\u001b[38;5;124m'\u001b[39m, a_min, a_max, out\u001b[38;5;241m=\u001b[39mout, \u001b[38;5;241m*\u001b[39m\u001b[38;5;241m*\u001b[39mkwargs)\n\u001b[1;32m-> 2172\u001b[0m \u001b[38;5;28;01mdef\u001b[39;00m \u001b[38;5;21m_sum_dispatcher\u001b[39m(a, axis\u001b[38;5;241m=\u001b[39m\u001b[38;5;28;01mNone\u001b[39;00m, dtype\u001b[38;5;241m=\u001b[39m\u001b[38;5;28;01mNone\u001b[39;00m, out\u001b[38;5;241m=\u001b[39m\u001b[38;5;28;01mNone\u001b[39;00m, keepdims\u001b[38;5;241m=\u001b[39m\u001b[38;5;28;01mNone\u001b[39;00m,\n\u001b[0;32m   2173\u001b[0m                     initial\u001b[38;5;241m=\u001b[39m\u001b[38;5;28;01mNone\u001b[39;00m, where\u001b[38;5;241m=\u001b[39m\u001b[38;5;28;01mNone\u001b[39;00m):\n\u001b[0;32m   2174\u001b[0m     \u001b[38;5;28;01mreturn\u001b[39;00m (a, out)\n\u001b[0;32m   2177\u001b[0m \u001b[38;5;129m@array_function_dispatch\u001b[39m(_sum_dispatcher)\n\u001b[0;32m   2178\u001b[0m \u001b[38;5;28;01mdef\u001b[39;00m \u001b[38;5;21msum\u001b[39m(a, axis\u001b[38;5;241m=\u001b[39m\u001b[38;5;28;01mNone\u001b[39;00m, dtype\u001b[38;5;241m=\u001b[39m\u001b[38;5;28;01mNone\u001b[39;00m, out\u001b[38;5;241m=\u001b[39m\u001b[38;5;28;01mNone\u001b[39;00m, keepdims\u001b[38;5;241m=\u001b[39mnp\u001b[38;5;241m.\u001b[39m_NoValue,\n\u001b[0;32m   2179\u001b[0m         initial\u001b[38;5;241m=\u001b[39mnp\u001b[38;5;241m.\u001b[39m_NoValue, where\u001b[38;5;241m=\u001b[39mnp\u001b[38;5;241m.\u001b[39m_NoValue):\n",
      "\u001b[1;31mKeyboardInterrupt\u001b[0m: "
     ]
    }
   ],
   "source": [
    "import librosa\n",
    "import numpy as np\n",
    "\n",
    "def extract_features(y, sr, n_mfcc=15, n_mels=128):\n",
    "    # **MFCC Features**\n",
    "    mfcc = librosa.feature.mfcc(y=y, sr=sr, n_mfcc=n_mfcc)\n",
    "    mfcc_mean = np.mean(mfcc, axis=1)  # (n_mfcc,)\n",
    "\n",
    "    # **Delta MFCC (First Order Derivative)**\n",
    "    delta_mfcc = librosa.feature.delta(mfcc)\n",
    "    delta_mfcc_mean = np.mean(delta_mfcc, axis=1)  # (n_mfcc,)\n",
    "\n",
    "    # **Zero-Crossing Rate**\n",
    "    zcr = np.mean(librosa.feature.zero_crossing_rate(y))  # (1,)\n",
    "\n",
    "    # **RMS Energy**\n",
    "    rms = np.mean(librosa.feature.rms(y=y))  # (1,)\n",
    "\n",
    "    # **Spectral Features**\n",
    "    spectral_centroid = np.mean(librosa.feature.spectral_centroid(y=y, sr=sr))  # (1,)\n",
    "    spectral_bandwidth = np.mean(librosa.feature.spectral_bandwidth(y=y, sr=sr))  # (1,)\n",
    "    spectral_rolloff = np.mean(librosa.feature.spectral_rolloff(y=y, sr=sr))  # (1,)\n",
    "\n",
    "    # **Pitch (Fundamental Frequency)**\n",
    "    pitches, magnitudes = librosa.piptrack(y=y, sr=sr)\n",
    "    pitch = np.mean(pitches[pitches > 0]) if np.any(pitches > 0) else 0  # (1,)\n",
    "\n",
    "    # **Log-Mel Spectrogram Features**\n",
    "    mel_spec = librosa.feature.melspectrogram(y=y, sr=sr, n_mels=n_mels)\n",
    "    mel_spec_db = librosa.power_to_db(mel_spec)\n",
    "    mel_spec_mean = np.mean(mel_spec_db, axis=1)  # (n_mels,)\n",
    "\n",
    "    # **Combine all features into a single array**\n",
    "    features = np.hstack((\n",
    "        mfcc_mean, delta_mfcc_mean,  # MFCC & Delta\n",
    "        [zcr, rms, spectral_centroid, spectral_bandwidth, spectral_rolloff, pitch],  # Spectral Features\n",
    "        mel_spec_mean,  # Log-Mel Spectrogram Features\n",
    "    ))\n",
    "\n",
    "    return features\n",
    "\n",
    "\n",
    "features = []\n",
    "labels = []\n",
    "\n",
    "for i, row in tqdm.tqdm(df_train.iterrows(), desc='Processing Audio', total=len(df_train)):\n",
    "    path = 'train/' + row['Filename']\n",
    "    \n",
    "    # Load the audio file and remove silence\n",
    "    y, sr = librosa.load(path, sr=None)  # Keep original sample rate\n",
    "    y_trimmed, _ = librosa.effects.trim(y, top_db=20)  # Trim silent parts\n",
    "    extracted_features = extract_features(y,sr)\n",
    "    features.append(extracted_features)\n",
    "    labels.append(row['Class ID'])\n",
    "\n",
    "features = np.array(features)\n",
    "scaler = StandardScaler()\n",
    "features_scaled = scaler.fit_transform(features)\n",
    "\n",
    "print(\"Final Feature Shape:\", features_scaled.shape)"
   ]
  },
  {
   "cell_type": "code",
   "execution_count": 64,
   "metadata": {},
   "outputs": [],
   "source": [
    "ffeat=features_scaled\n",
    "lbls=labels"
   ]
  },
  {
   "cell_type": "code",
   "execution_count": 65,
   "metadata": {},
   "outputs": [],
   "source": [
    "features_scaled=ffeat\n",
    "labels=lbls"
   ]
  },
  {
   "cell_type": "code",
   "execution_count": 67,
   "metadata": {},
   "outputs": [
    {
     "name": "stdout",
     "output_type": "stream",
     "text": [
      "(6289, 35) (6289,)\n",
      "Done\n"
     ]
    }
   ],
   "source": [
    "import torch\n",
    "import numpy as np\n",
    "from torch.nn.functional import one_hot\n",
    "\n",
    "X = np.array(features_scaled)\n",
    "y = np.array(labels)\n",
    "\n",
    "print(X.shape, y.shape)\n",
    "print('Done')"
   ]
  },
  {
   "cell_type": "code",
   "execution_count": 15,
   "metadata": {},
   "outputs": [
    {
     "name": "stderr",
     "output_type": "stream",
     "text": [
      "c:\\Users\\91820\\AppData\\Local\\Programs\\Python\\Python312\\Lib\\site-packages\\torch\\utils\\_pytree.py:185: FutureWarning: optree is installed but the version is too old to support PyTorch Dynamo in C++ pytree. C++ pytree support is disabled. Please consider upgrading optree using `python3 -m pip install --upgrade 'optree>=0.13.0'`.\n",
      "  warnings.warn(\n"
     ]
    },
    {
     "name": "stdout",
     "output_type": "stream",
     "text": [
      "Using device: cuda\n"
     ]
    }
   ],
   "source": [
    "import torch\n",
    "import torch.nn as nn\n",
    "import torch.optim as optim\n",
    "import numpy as np\n",
    "from sklearn.metrics import classification_report, accuracy_score, f1_score, precision_score, recall_score\n",
    "from torch.utils.data import DataLoader, TensorDataset\n",
    "import torch.nn.functional as F\n",
    "\n",
    "# Check if CUDA is available\n",
    "device = torch.device(\"cuda\" if torch.cuda.is_available() else \"cpu\")\n",
    "print(f\"Using device: {device}\")\n",
    "class DeepLSTM(nn.Module):\n",
    "    def __init__(self, input_size=35, hidden_size=128, num_layers=3, num_classes=10, dropout=0.3):\n",
    "        super(DeepLSTM, self).__init__()\n",
    "\n",
    "        self.lstm = nn.LSTM(input_size=input_size, hidden_size=hidden_size, num_layers=num_layers,\n",
    "                            batch_first=True, bidirectional=True, dropout=dropout)\n",
    "\n",
    "        self.fc1 = nn.Linear(hidden_size * 2, 128)  # BiLSTM output\n",
    "        self.bn1 = nn.BatchNorm1d(128)\n",
    "        self.fc2 = nn.Linear(128, num_classes)\n",
    "\n",
    "        self.relu = nn.ReLU()\n",
    "        self.dropout = nn.Dropout(dropout)\n",
    "\n",
    "    def forward(self, x):\n",
    "        lstm_out, _ = self.lstm(x)\n",
    "        x = lstm_out[:, -1, :]  # Take last time-step output\n",
    "\n",
    "        x = self.relu(self.bn1(self.fc1(x)))\n",
    "        x = self.dropout(x)\n",
    "        x = self.fc2(x)\n",
    "\n",
    "        return x\n",
    "\n",
    "# Initialize model\n",
    "num_classes = 7\n",
    "model = DeepLSTM(input_size=35, num_classes=num_classes).to(device)\n",
    "\n",
    "optimizer = optim.Adam(model.parameters(), lr=0.001)\n",
    "criterion = nn.CrossEntropyLoss()"
   ]
  },
  {
   "cell_type": "code",
   "execution_count": 16,
   "metadata": {},
   "outputs": [
    {
     "name": "stdout",
     "output_type": "stream",
     "text": [
      "Using device: cuda\n"
     ]
    },
    {
     "ename": "NameError",
     "evalue": "name 'X' is not defined",
     "output_type": "error",
     "traceback": [
      "\u001b[1;31m---------------------------------------------------------------------------\u001b[0m",
      "\u001b[1;31mNameError\u001b[0m                                 Traceback (most recent call last)",
      "Cell \u001b[1;32mIn[16], line 12\u001b[0m\n\u001b[0;32m      9\u001b[0m \u001b[38;5;28mprint\u001b[39m(\u001b[38;5;124mf\u001b[39m\u001b[38;5;124m\"\u001b[39m\u001b[38;5;124mUsing device: \u001b[39m\u001b[38;5;132;01m{\u001b[39;00mdevice\u001b[38;5;132;01m}\u001b[39;00m\u001b[38;5;124m\"\u001b[39m)\n\u001b[0;32m     11\u001b[0m \u001b[38;5;66;03m# Convert to NumPy\u001b[39;00m\n\u001b[1;32m---> 12\u001b[0m X \u001b[38;5;241m=\u001b[39m np\u001b[38;5;241m.\u001b[39marray(\u001b[43mX\u001b[49m, dtype\u001b[38;5;241m=\u001b[39mnp\u001b[38;5;241m.\u001b[39mfloat32)\n\u001b[0;32m     13\u001b[0m y \u001b[38;5;241m=\u001b[39m np\u001b[38;5;241m.\u001b[39marray(y, dtype\u001b[38;5;241m=\u001b[39mnp\u001b[38;5;241m.\u001b[39mint64)  \u001b[38;5;66;03m# Assuming y is not one-hot encoded\u001b[39;00m\n\u001b[0;32m     15\u001b[0m \u001b[38;5;66;03m# Shuffle data\u001b[39;00m\n",
      "\u001b[1;31mNameError\u001b[0m: name 'X' is not defined"
     ]
    }
   ],
   "source": [
    "import torch\n",
    "import numpy as np\n",
    "from imblearn.over_sampling import SMOTE\n",
    "from sklearn.utils import shuffle\n",
    "from torch.utils.data import TensorDataset, DataLoader\n",
    "\n",
    "# Check for GPU\n",
    "device = torch.device(\"cuda\" if torch.cuda.is_available() else \"cpu\")\n",
    "print(f\"Using device: {device}\")\n",
    "\n",
    "# Convert to NumPy\n",
    "X = np.array(X, dtype=np.float32)\n",
    "y = np.array(y, dtype=np.int64)  # Assuming y is not one-hot encoded\n",
    "\n",
    "# Shuffle data\n",
    "X, y = shuffle(X, y, random_state=42)\n",
    "\n",
    "# Apply SMOTE to balance classes\n",
    "smote = SMOTE(sampling_strategy='not majority', random_state=42)\n",
    "X_train_sm, y_train_sm = smote.fit_resample(X, y)\n",
    "\n",
    "# Convert NumPy arrays to PyTorch tensors\n",
    "X_train_tensor = torch.tensor(X_train_sm, dtype=torch.float32).to(device)\n",
    "y_train_tensor = torch.tensor(y_train_sm, dtype=torch.long).to(device)\n",
    "\n",
    "# X_test_tensor = torch.tensor(X_test, dtype=torch.float32).to(device)\n",
    "# y_test_tensor = torch.tensor(y_test, dtype=torch.long).to(device)\n",
    "\n",
    "# Create DataLoader\n",
    "batch_size = 64\n",
    "train_dataset = TensorDataset(X_train_tensor, y_train_tensor)\n",
    "train_loader = DataLoader(train_dataset, batch_size=batch_size, shuffle=True)\n",
    "\n",
    "# test_dataset = TensorDataset(X_test_tensor, y_test_tensor)\n",
    "# test_loader = DataLoader(test_dataset, batch_size=batch_size, shuffle=False)\n",
    "\n",
    "print(f\"Training dataset size: {len(train_loader.dataset)}\")\n"
   ]
  },
  {
   "cell_type": "code",
   "execution_count": 230,
   "metadata": {},
   "outputs": [
    {
     "name": "stdout",
     "output_type": "stream",
     "text": [
      "Before SMOTE: Counter({2: 1791, 0: 1690, 3: 1133, 1: 632, 4: 593, 5: 236, 6: 214})\n",
      "After SMOTE: Counter({6: 1791, 0: 1791, 2: 1791, 3: 1791, 4: 1791, 1: 1791, 5: 1791})\n"
     ]
    }
   ],
   "source": [
    "from collections import Counter\n",
    "print(\"Before SMOTE:\", Counter(y))\n",
    "print(\"After SMOTE:\", Counter(y_train_sm))\n"
   ]
  },
  {
   "cell_type": "code",
   "execution_count": null,
   "metadata": {},
   "outputs": [
    {
     "name": "stdout",
     "output_type": "stream",
     "text": [
      "Epoch [1/10], Loss: 286.6233, Train Accuracy: 0.4255\n",
      "Epoch [2/10], Loss: 220.1233, Train Accuracy: 0.5682\n",
      "Epoch [3/10], Loss: 193.8686, Train Accuracy: 0.6261\n",
      "Epoch [4/10], Loss: 175.9681, Train Accuracy: 0.6611\n",
      "Epoch [5/10], Loss: 155.2708, Train Accuracy: 0.7084\n",
      "Epoch [6/10], Loss: 137.7112, Train Accuracy: 0.7389\n",
      "Epoch [7/10], Loss: 119.5840, Train Accuracy: 0.7762\n",
      "Epoch [8/10], Loss: 106.1221, Train Accuracy: 0.8063\n",
      "Epoch [9/10], Loss: 95.9450, Train Accuracy: 0.8209\n",
      "Epoch [10/10], Loss: 81.0516, Train Accuracy: 0.8482\n"
     ]
    }
   ],
   "source": [
    "\n",
    "num_epochs = 20\n",
    "for epoch in range(num_epochs):\n",
    "    model.train()\n",
    "    total_loss, correct, total = 0, 0, 0\n",
    "\n",
    "    for inputs, labels in train_loader:\n",
    "        optimizer.zero_grad()\n",
    "        outputs = model(inputs)\n",
    "        loss = criterion(outputs, labels)\n",
    "        loss.backward()\n",
    "        optimizer.step()\n",
    "\n",
    "        total_loss += loss.item()\n",
    "        preds = torch.argmax(outputs, dim=1)\n",
    "        correct += (preds == labels).sum().item()\n",
    "        total += labels.size(0)\n",
    "\n",
    "    train_acc = correct / total\n",
    "    print(f\"Epoch {epoch+1}/{num_epochs} - Loss: {total_loss:.4f} - Train Acc: {train_acc:.4f}\")"
   ]
  },
  {
   "cell_type": "code",
   "execution_count": 49,
   "metadata": {},
   "outputs": [
    {
     "data": {
      "text/html": [
       "<div>\n",
       "<style scoped>\n",
       "    .dataframe tbody tr th:only-of-type {\n",
       "        vertical-align: middle;\n",
       "    }\n",
       "\n",
       "    .dataframe tbody tr th {\n",
       "        vertical-align: top;\n",
       "    }\n",
       "\n",
       "    .dataframe thead th {\n",
       "        text-align: right;\n",
       "    }\n",
       "</style>\n",
       "<table border=\"1\" class=\"dataframe\">\n",
       "  <thead>\n",
       "    <tr style=\"text-align: right;\">\n",
       "      <th></th>\n",
       "      <th>Filename</th>\n",
       "      <th>File_ID</th>\n",
       "      <th>Durationin ms</th>\n",
       "      <th>Class_id</th>\n",
       "      <th>Classname</th>\n",
       "      <th>source</th>\n",
       "    </tr>\n",
       "  </thead>\n",
       "  <tbody>\n",
       "    <tr>\n",
       "      <th>0</th>\n",
       "      <td>112557-2_0_0.wav</td>\n",
       "      <td>112557</td>\n",
       "      <td>4000</td>\n",
       "      <td>0</td>\n",
       "      <td>breath</td>\n",
       "      <td>https://freesound.org/</td>\n",
       "    </tr>\n",
       "    <tr>\n",
       "      <th>1</th>\n",
       "      <td>112557-3_0_0.wav</td>\n",
       "      <td>112557</td>\n",
       "      <td>3950</td>\n",
       "      <td>0</td>\n",
       "      <td>breath</td>\n",
       "      <td>https://freesound.org/</td>\n",
       "    </tr>\n",
       "    <tr>\n",
       "      <th>2</th>\n",
       "      <td>112557-4_0_0.wav</td>\n",
       "      <td>112557</td>\n",
       "      <td>3910</td>\n",
       "      <td>0</td>\n",
       "      <td>breath</td>\n",
       "      <td>https://freesound.org/</td>\n",
       "    </tr>\n",
       "    <tr>\n",
       "      <th>3</th>\n",
       "      <td>140301_0_0.wav</td>\n",
       "      <td>140301</td>\n",
       "      <td>2261</td>\n",
       "      <td>0</td>\n",
       "      <td>breath</td>\n",
       "      <td>https://freesound.org/</td>\n",
       "    </tr>\n",
       "    <tr>\n",
       "      <th>4</th>\n",
       "      <td>144128-1_0_0.wav</td>\n",
       "      <td>144128</td>\n",
       "      <td>3770</td>\n",
       "      <td>0</td>\n",
       "      <td>breath</td>\n",
       "      <td>https://freesound.org/</td>\n",
       "    </tr>\n",
       "  </tbody>\n",
       "</table>\n",
       "</div>"
      ],
      "text/plain": [
       "           Filename  File_ID  Durationin ms  Class_id Classname  \\\n",
       "0  112557-2_0_0.wav   112557           4000         0    breath   \n",
       "1  112557-3_0_0.wav   112557           3950         0    breath   \n",
       "2  112557-4_0_0.wav   112557           3910         0    breath   \n",
       "3    140301_0_0.wav   140301           2261         0    breath   \n",
       "4  144128-1_0_0.wav   144128           3770         0    breath   \n",
       "\n",
       "                   source  \n",
       "0  https://freesound.org/  \n",
       "1  https://freesound.org/  \n",
       "2  https://freesound.org/  \n",
       "3  https://freesound.org/  \n",
       "4  https://freesound.org/  "
      ]
     },
     "execution_count": 49,
     "metadata": {},
     "output_type": "execute_result"
    }
   ],
   "source": [
    "df_test =pd.read_csv('metadata of test set.csv')\n",
    "df_test.drop([ 'Augment Id','Augmentation type'], axis=1, inplace=True)\n",
    "df_test.head(5)"
   ]
  },
  {
   "cell_type": "code",
   "execution_count": 50,
   "metadata": {},
   "outputs": [
    {
     "name": "stderr",
     "output_type": "stream",
     "text": [
      "Loading : 100%|██████████| 725/725 [01:12<00:00,  9.96it/s]"
     ]
    },
    {
     "name": "stdout",
     "output_type": "stream",
     "text": [
      "Final Feature Shape: (725, 35)\n"
     ]
    },
    {
     "name": "stderr",
     "output_type": "stream",
     "text": [
      "\n"
     ]
    }
   ],
   "source": [
    "features_test = []\n",
    "labels_test = []\n",
    "\n",
    "for i, row in tqdm.tqdm(df_test.iterrows(), desc='Loading : ', total=len(df_test)):\n",
    "    path = 'test/' + row['Filename']\n",
    "    y,sr=librosa.load(path)\n",
    "    extracted_features_test = extract_features(y,sr)\n",
    "    features_test.append(extracted_features_test)\n",
    "    labels_test.append(row['Class_id'])\n",
    "\n",
    "# Convert to NumPy array\n",
    "features_test = np.array(features_test)\n",
    "\n",
    "# Standardize the features_test\n",
    "scaler = StandardScaler()\n",
    "features_test_scaled = scaler.fit_transform(features_test)\n",
    "\n",
    "print(\"Final Feature Shape:\", features_test_scaled.shape) "
   ]
  },
  {
   "cell_type": "code",
   "execution_count": null,
   "metadata": {},
   "outputs": [],
   "source": [
    "X_test =features_test_scaled\n",
    "y_test =labels_test\n",
    "X_test = np.array(X_test) \n",
    "y_test = np.array(y_test) \n",
    "X_test_tensor = torch.tensor(X_test, dtype=torch.float32).to(device)\n",
    "y_test_tensor = torch.tensor(y_test, dtype=torch.long).to(device)\n",
    "\n",
    "# Create DataLoader\n",
    "test_dataset = TensorDataset(X_test_tensor, y_test_tensor)\n",
    "test_loader = DataLoader(test_dataset, batch_size=64, shuffle=False)\n",
    "\n"
   ]
  },
  {
   "cell_type": "code",
   "execution_count": null,
   "metadata": {},
   "outputs": [
    {
     "name": "stdout",
     "output_type": "stream",
     "text": [
      "Feature Extraction Complete! Train Shape: (12537, 10), Test Shape: (725, 10)\n"
     ]
    }
   ],
   "source": [
    "from sklearn.metrics import classification_report, f1_score, accuracy_score\n",
    "model.eval()\n",
    "all_preds, all_labels = [], []\n",
    "\n",
    "with torch.no_grad():\n",
    "    for inputs, labels in test_loader:\n",
    "        outputs = model(inputs)\n",
    "        preds = torch.argmax(outputs, dim=1)\n",
    "\n",
    "        all_preds.extend(preds.cpu().numpy())\n",
    "        all_labels.extend(labels.cpu().numpy())\n",
    "accuracy = accuracy_score(all_labels, all_preds)\n",
    "f1 = f1_score(all_labels, all_preds, average='macro')\n",
    "classification_rep = classification_report(all_labels, all_preds)\n",
    "\n",
    "print(f\"Test Accuracy: {accuracy:.4f}\")\n",
    "print(f\"F1 Score: {f1:.4f}\")\n",
    "print(\"Classification Report:\\n\", classification_rep)"
   ]
  },
  {
   "cell_type": "code",
   "execution_count": null,
   "metadata": {},
   "outputs": [
    {
     "data": {
      "image/png": "[encoded data removed]",
      "text/plain": [
       "<Figure size 800x600 with 2 Axes>"
      ]
     },
     "metadata": {},
     "output_type": "display_data"
    }
   ],
   "source": [
    "from sklearn.metrics import (\n",
    "    classification_report)\n",
    "conf_matrix = confusion_matrix(test_labels, all_preds)\n",
    "\n",
    "# Plot Confusion Matrix\n",
    "plt.figure(figsize=(8, 6))\n",
    "sns.heatmap(conf_matrix, annot=True, fmt=\"d\", cmap=\"Blues\", xticklabels=np.unique(test_labels), yticklabels=np.unique(test_labels))\n",
    "plt.xlabel(\"Predicted Label\")\n",
    "plt.ylabel(\"True Label\")\n",
    "plt.title(\"Confusion Matrix\")\n",
    "plt.show()"
   ]
  }
 ],
 "metadata": {
  "kernelspec": {
   "display_name": "Python 3",
   "language": "python",
   "name": "python3"
  },
  "language_info": {
   "codemirror_mode": {
    "name": "ipython",
    "version": 3
   },
   "file_extension": ".py",
   "mimetype": "text/x-python",
   "name": "python",
   "nbconvert_exporter": "python",
   "pygments_lexer": "ipython3",
   "version": "3.12.4"
  }
 },
 "nbformat": 4,
 "nbformat_minor": 2
}
