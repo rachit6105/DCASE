{
 "cells": [
  {
   "cell_type": "markdown",
   "metadata": {},
   "source": [
    "\n",
    "# Importing Required Libraries\n",
    "\n",
    "This section imports the necessary libraries for data manipulation, audio processing, visualization, and machine learning."
   ]
  },
  {
   "cell_type": "code",
   "execution_count": 2,
   "metadata": {},
   "outputs": [],
   "source": [
    "import numpy as np\n",
    "import librosa\n",
    "import librosa.display\n",
    "import pandas as pd\n",
    "import matplotlib.pyplot as plt\n",
    "import seaborn as sns\n",
    "import tqdm\n",
    "import os\n",
    "from sklearn.manifold import TSNE\n",
    "from sklearn.decomposition import PCA\n",
    "from sklearn.preprocessing import StandardScaler"
   ]
  },
  {
   "cell_type": "markdown",
   "metadata": {},
   "source": [
    "\n",
    "# Loading Training Metadata\n",
    "\n",
    "This section reads the training metadata from a CSV file and displays the first few rows along with some basic statistics about the dataset"
   ]
  },
  {
   "cell_type": "code",
   "execution_count": 3,
   "metadata": {},
   "outputs": [
    {
     "name": "stdout",
     "output_type": "stream",
     "text": [
      "Index(['Filename', 'File ID', 'Duration in ms', 'Class ID', 'Classname',\n",
      "       'augmentation  id', 'Augmentation  type', 'source'],\n",
      "      dtype='object')\n"
     ]
    },
    {
     "data": {
      "text/html": [
       "<div>\n",
       "<style scoped>\n",
       "    .dataframe tbody tr th:only-of-type {\n",
       "        vertical-align: middle;\n",
       "    }\n",
       "\n",
       "    .dataframe tbody tr th {\n",
       "        vertical-align: top;\n",
       "    }\n",
       "\n",
       "    .dataframe thead th {\n",
       "        text-align: right;\n",
       "    }\n",
       "</style>\n",
       "<table border=\"1\" class=\"dataframe\">\n",
       "  <thead>\n",
       "    <tr style=\"text-align: right;\">\n",
       "      <th></th>\n",
       "      <th>Filename</th>\n",
       "      <th>File ID</th>\n",
       "      <th>Duration in ms</th>\n",
       "      <th>Class ID</th>\n",
       "      <th>Classname</th>\n",
       "      <th>augmentation  id</th>\n",
       "      <th>Augmentation  type</th>\n",
       "      <th>source</th>\n",
       "    </tr>\n",
       "  </thead>\n",
       "  <tbody>\n",
       "    <tr>\n",
       "      <th>0</th>\n",
       "      <td>108160-1_0_0.wav</td>\n",
       "      <td>108160</td>\n",
       "      <td>3730</td>\n",
       "      <td>0</td>\n",
       "      <td>breath</td>\n",
       "      <td>0</td>\n",
       "      <td>Orignal</td>\n",
       "      <td>https://freesound.org/</td>\n",
       "    </tr>\n",
       "    <tr>\n",
       "      <th>1</th>\n",
       "      <td>108160-2_0_0.wav</td>\n",
       "      <td>108160</td>\n",
       "      <td>4000</td>\n",
       "      <td>0</td>\n",
       "      <td>breath</td>\n",
       "      <td>0</td>\n",
       "      <td>Orignal</td>\n",
       "      <td>https://freesound.org/</td>\n",
       "    </tr>\n",
       "    <tr>\n",
       "      <th>2</th>\n",
       "      <td>108160-3_0_0.wav</td>\n",
       "      <td>108160</td>\n",
       "      <td>4000</td>\n",
       "      <td>0</td>\n",
       "      <td>breath</td>\n",
       "      <td>0</td>\n",
       "      <td>Orignal</td>\n",
       "      <td>https://freesound.org/</td>\n",
       "    </tr>\n",
       "    <tr>\n",
       "      <th>3</th>\n",
       "      <td>108160-4_0_0.wav</td>\n",
       "      <td>108160</td>\n",
       "      <td>2226</td>\n",
       "      <td>0</td>\n",
       "      <td>breath</td>\n",
       "      <td>0</td>\n",
       "      <td>Orignal</td>\n",
       "      <td>https://freesound.org/</td>\n",
       "    </tr>\n",
       "    <tr>\n",
       "      <th>4</th>\n",
       "      <td>146769-1_0_0.wav</td>\n",
       "      <td>146769</td>\n",
       "      <td>3540</td>\n",
       "      <td>0</td>\n",
       "      <td>breath</td>\n",
       "      <td>0</td>\n",
       "      <td>Orignal</td>\n",
       "      <td>https://freesound.org/</td>\n",
       "    </tr>\n",
       "    <tr>\n",
       "      <th>5</th>\n",
       "      <td>151215_0_0.wav</td>\n",
       "      <td>151215</td>\n",
       "      <td>3690</td>\n",
       "      <td>0</td>\n",
       "      <td>breath</td>\n",
       "      <td>0</td>\n",
       "      <td>Orignal</td>\n",
       "      <td>https://freesound.org/</td>\n",
       "    </tr>\n",
       "    <tr>\n",
       "      <th>6</th>\n",
       "      <td>162254-1_0_0.wav</td>\n",
       "      <td>162254</td>\n",
       "      <td>4000</td>\n",
       "      <td>0</td>\n",
       "      <td>breath</td>\n",
       "      <td>0</td>\n",
       "      <td>Orignal</td>\n",
       "      <td>https://freesound.org/</td>\n",
       "    </tr>\n",
       "    <tr>\n",
       "      <th>7</th>\n",
       "      <td>162254-2_0_0.wav</td>\n",
       "      <td>162254</td>\n",
       "      <td>4000</td>\n",
       "      <td>0</td>\n",
       "      <td>breath</td>\n",
       "      <td>0</td>\n",
       "      <td>Orignal</td>\n",
       "      <td>https://freesound.org/</td>\n",
       "    </tr>\n",
       "    <tr>\n",
       "      <th>8</th>\n",
       "      <td>164101-32_0_0.wav</td>\n",
       "      <td>164101</td>\n",
       "      <td>3860</td>\n",
       "      <td>0</td>\n",
       "      <td>breath</td>\n",
       "      <td>0</td>\n",
       "      <td>Orignal</td>\n",
       "      <td>https://freesound.org/</td>\n",
       "    </tr>\n",
       "    <tr>\n",
       "      <th>9</th>\n",
       "      <td>169222-1_0_0.wav</td>\n",
       "      <td>169222</td>\n",
       "      <td>3690</td>\n",
       "      <td>0</td>\n",
       "      <td>breath</td>\n",
       "      <td>0</td>\n",
       "      <td>Orignal</td>\n",
       "      <td>https://freesound.org/</td>\n",
       "    </tr>\n",
       "  </tbody>\n",
       "</table>\n",
       "</div>"
      ],
      "text/plain": [
       "            Filename File ID  Duration in ms  Class ID Classname  \\\n",
       "0   108160-1_0_0.wav  108160            3730         0    breath   \n",
       "1   108160-2_0_0.wav  108160            4000         0    breath   \n",
       "2   108160-3_0_0.wav  108160            4000         0    breath   \n",
       "3   108160-4_0_0.wav  108160            2226         0    breath   \n",
       "4   146769-1_0_0.wav  146769            3540         0    breath   \n",
       "5     151215_0_0.wav  151215            3690         0    breath   \n",
       "6   162254-1_0_0.wav  162254            4000         0    breath   \n",
       "7   162254-2_0_0.wav  162254            4000         0    breath   \n",
       "8  164101-32_0_0.wav  164101            3860         0    breath   \n",
       "9   169222-1_0_0.wav  169222            3690         0    breath   \n",
       "\n",
       "   augmentation  id Augmentation  type                  source  \n",
       "0                 0            Orignal  https://freesound.org/  \n",
       "1                 0            Orignal  https://freesound.org/  \n",
       "2                 0            Orignal  https://freesound.org/  \n",
       "3                 0            Orignal  https://freesound.org/  \n",
       "4                 0            Orignal  https://freesound.org/  \n",
       "5                 0            Orignal  https://freesound.org/  \n",
       "6                 0            Orignal  https://freesound.org/  \n",
       "7                 0            Orignal  https://freesound.org/  \n",
       "8                 0            Orignal  https://freesound.org/  \n",
       "9                 0            Orignal  https://freesound.org/  "
      ]
     },
     "execution_count": 3,
     "metadata": {},
     "output_type": "execute_result"
    }
   ],
   "source": [
    "df_train = pd.read_csv('metadata of train set .csv')\n",
    "print(df_train.columns)\n",
    "df_train.head(10)"
   ]
  },
  {
   "cell_type": "markdown",
   "metadata": {},
   "source": [
    "# Extracting Features from Audio Samples\n",
    "This section iterates through the audio samples, extracts features using the defined function, and stores them in a DataFrame."
   ]
  },
  {
   "cell_type": "code",
   "execution_count": 4,
   "metadata": {},
   "outputs": [],
   "source": [
    "import librosa\n",
    "import numpy as np\n",
    "import tqdm\n",
    "from sklearn.preprocessing import StandardScaler\n",
    "\n",
    "import librosa\n",
    "import numpy as np\n",
    "\n",
    "def extract_features(y, sr, \n",
    "                    #  n_mfcc=13,\n",
    "                     n_mels=128):\n",
    "    # **MFCC Features**\n",
    "    # mfcc = librosa.feature.mfcc(y=y, sr=sr, n_mfcc=n_mfcc)  # (n_mfcc, time_frames)\n",
    "    # delta_mfcc = librosa.feature.delta(mfcc)  # (n_mfcc, time_frames)\n",
    "    zcr = librosa.feature.zero_crossing_rate(y)  # (1, time_frames)\n",
    "    # rms = librosa.feature.rms(y=y)  # (1, time_frames)\n",
    "    # spectral_centroid = librosa.feature.spectral_centroid(y=y, sr=sr)  # (1, time_frames)\n",
    "    # spectral_bandwidth = librosa.feature.spectral_bandwidth(y=y, sr=sr)  # (1, time_frames)\n",
    "    # spectral_rolloff = librosa.feature.spectral_rolloff(y=y, sr=sr)  # (1, time_frames)\n",
    "    mel_spec = librosa.feature.melspectrogram(y=y, sr=sr, n_mels=n_mels)  # (n_mels, time_frames)\n",
    "    mel_spec_db = librosa.power_to_db(mel_spec)  # Convert to dB scale\n",
    "    features = np.vstack((\n",
    "        # delta_mfcc,  # MFCC & Delta\n",
    "        zcr, \n",
    "        # rms, spectral_centroid, spectral_bandwidth, spectral_rolloff,  # Spectral Features\n",
    "        mel_spec_db  # Log-Mel Spectrogram\n",
    "    ))  # Final shape: (feature_dim, time_frames)\n",
    "    return features  # Shape: (feature_dim, time_frames)\n",
    "\n",
    "\n",
    "def normalize_audio(y):\n",
    "    \"\"\"Normalize the waveform to the range [-1, 1].\"\"\"\n",
    "    return y / np.max(np.abs(y)) if np.max(np.abs(y)) > 0 else y\n"
   ]
  },
  {
   "cell_type": "code",
   "execution_count": 4,
   "metadata": {},
   "outputs": [
    {
     "name": "stderr",
     "output_type": "stream",
     "text": [
      "Processing Audio: 100%|██████████| 6289/6289 [01:04<00:00, 98.20it/s] \n"
     ]
    }
   ],
   "source": [
    "features = []\n",
    "labels = []\n",
    "\n",
    "for i, row in tqdm.tqdm(df_train.iterrows(), desc='Processing Audio', total=len(df_train)):\n",
    "    path = 'train/' + row['Filename']\n",
    "    \n",
    "    # Load the audio file\n",
    "    y, sr = librosa.load(path,sr=8000)  # Keep original sample rate\n",
    "    # Preprocessing: Normalize and smooth\n",
    "    y = librosa.util.fix_length(y, size=8000*4)  # Ensure 4s length\n",
    "    # y = normalize_audio(y)\n",
    "    extracted_features = extract_features(y,sr)\n",
    "    features.append(extracted_features)\n",
    "    labels.append(row['Class ID'])"
   ]
  },
  {
   "cell_type": "code",
   "execution_count": 5,
   "metadata": {},
   "outputs": [
    {
     "data": {
      "text/plain": [
       "(6289, 129, 63)"
      ]
     },
     "execution_count": 5,
     "metadata": {},
     "output_type": "execute_result"
    }
   ],
   "source": [
    "# # Convert to numpy array and scale\n",
    "features = np.array(features)\n",
    "features.shape"
   ]
  },
  {
   "cell_type": "markdown",
   "metadata": {},
   "source": [
    "# Defining the CNN Model\n",
    "This section defines a convolutional neural network (CNN) model architecture for audio classification."
   ]
  },
  {
   "cell_type": "code",
   "execution_count": 5,
   "metadata": {},
   "outputs": [
    {
     "name": "stderr",
     "output_type": "stream",
     "text": [
      "c:\\Users\\91820\\AppData\\Local\\Programs\\Python\\Python312\\Lib\\site-packages\\torch\\utils\\_pytree.py:185: FutureWarning: optree is installed but the version is too old to support PyTorch Dynamo in C++ pytree. C++ pytree support is disabled. Please consider upgrading optree using `python3 -m pip install --upgrade 'optree>=0.13.0'`.\n",
      "  warnings.warn(\n"
     ]
    },
    {
     "data": {
      "text/plain": [
       "==========================================================================================\n",
       "Layer (type:depth-idx)                   Output Shape              Param #\n",
       "==========================================================================================\n",
       "CNNModel                                 [64, 7]                   --\n",
       "├─Conv2d: 1-1                            [64, 64, 129, 63]         640\n",
       "├─BatchNorm2d: 1-2                       [64, 64, 129, 63]         128\n",
       "├─Dropout: 1-3                           [64, 64, 129, 63]         --\n",
       "├─Conv2d: 1-4                            [64, 128, 129, 63]        73,856\n",
       "├─BatchNorm2d: 1-5                       [64, 128, 129, 63]        256\n",
       "├─Conv2d: 1-6                            [64, 128, 129, 63]        147,584\n",
       "├─BatchNorm2d: 1-7                       [64, 128, 129, 63]        256\n",
       "├─Dropout: 1-8                           [64, 128, 129, 63]        --\n",
       "├─Conv2d: 1-9                            [64, 128, 129, 63]        147,584\n",
       "├─BatchNorm2d: 1-10                      [64, 128, 129, 63]        256\n",
       "├─Conv2d: 1-11                           [64, 128, 129, 63]        147,584\n",
       "├─BatchNorm2d: 1-12                      [64, 128, 129, 63]        256\n",
       "├─MaxPool2d: 1-13                        [64, 128, 64, 31]         --\n",
       "├─Dropout: 1-14                          [64, 128, 64, 31]         --\n",
       "├─Conv2d: 1-15                           [64, 256, 64, 31]         295,168\n",
       "├─BatchNorm2d: 1-16                      [64, 256, 64, 31]         512\n",
       "├─Conv2d: 1-17                           [64, 256, 64, 31]         590,080\n",
       "├─BatchNorm2d: 1-18                      [64, 256, 64, 31]         512\n",
       "├─Conv2d: 1-19                           [64, 256, 64, 31]         590,080\n",
       "├─BatchNorm2d: 1-20                      [64, 256, 64, 31]         512\n",
       "├─Dropout: 1-21                          [64, 256]                 --\n",
       "├─Linear: 1-22                           [64, 7]                   1,799\n",
       "==========================================================================================\n",
       "Total params: 1,997,063\n",
       "Trainable params: 1,997,063\n",
       "Non-trainable params: 0\n",
       "Total mult-adds (Units.GIGABYTES): 456.37\n",
       "==========================================================================================\n",
       "Input size (MB): 2.08\n",
       "Forward/backward pass size (MB): 6353.78\n",
       "Params size (MB): 7.99\n",
       "Estimated Total Size (MB): 6363.85\n",
       "=========================================================================================="
      ]
     },
     "execution_count": 5,
     "metadata": {},
     "output_type": "execute_result"
    }
   ],
   "source": [
    "import torch\n",
    "import torch.nn as nn\n",
    "import torch.nn.functional as F\n",
    "from torchinfo import summary\n",
    "\n",
    "class CNNModel(nn.Module):\n",
    "    def __init__(self, input_size=(129, 63), num_classes=7):\n",
    "        super(CNNModel, self).__init__()\n",
    "        self.conv1 = nn.Conv2d(in_channels=1, out_channels=64, kernel_size=(3, 3), stride=1, padding=1)\n",
    "        self.bn1 = nn.BatchNorm2d(64)\n",
    "        self.dropout1 = nn.Dropout(0.1)\n",
    "\n",
    "        self.conv2 = nn.Conv2d(64, 128, kernel_size=(3, 3), stride=1, padding=1)\n",
    "        self.bn2 = nn.BatchNorm2d(128)\n",
    "        self.conv3 = nn.Conv2d(128, 128, kernel_size=(3, 3), stride=1, padding=1)\n",
    "        self.bn3 = nn.BatchNorm2d(128)\n",
    "        self.dropout2 = nn.Dropout(0.1)\n",
    "\n",
    "        self.conv4 = nn.Conv2d(128, 128, kernel_size=(3, 3), stride=1, padding=1)\n",
    "        self.bn4 = nn.BatchNorm2d(128)\n",
    "        self.conv5 = nn.Conv2d(128, 128, kernel_size=(3, 3), stride=1, padding=1)\n",
    "        self.bn5 = nn.BatchNorm2d(128)\n",
    "        self.pool1 = nn.MaxPool2d(kernel_size=(2, 2))\n",
    "        self.dropout3 = nn.Dropout(0.2)\n",
    "\n",
    "        self.conv6 = nn.Conv2d(128, 256, kernel_size=(3, 3), stride=1, padding=1)\n",
    "        self.bn6 = nn.BatchNorm2d(256)\n",
    "        self.conv7 = nn.Conv2d(256, 256, kernel_size=(3, 3), stride=1, padding=1)\n",
    "        self.bn7 = nn.BatchNorm2d(256)\n",
    "        self.conv8 = nn.Conv2d(256, 256, kernel_size=(3, 3), stride=1, padding=1)\n",
    "        self.bn8 = nn.BatchNorm2d(256)\n",
    "\n",
    "        self.dropout4 = nn.Dropout(0.2)\n",
    "        self.fc = nn.Linear(256, num_classes)\n",
    "\n",
    "    def forward(self, x):\n",
    "        x = x.unsqueeze(1)  # Reshape (batch_size, 174, 251) → (batch_size, 1, 174, 251)\n",
    "\n",
    "        x = F.relu(self.bn1(self.conv1(x)))\n",
    "        x = self.dropout1(x)\n",
    "\n",
    "        x = F.relu(self.bn2(self.conv2(x)))\n",
    "        x = F.relu(self.bn3(self.conv3(x)))\n",
    "        x = self.dropout2(x)\n",
    "\n",
    "        x = F.relu(self.bn4(self.conv4(x)))\n",
    "        x = F.relu(self.bn5(self.conv5(x)))\n",
    "        x = self.pool1(x)\n",
    "        x = self.dropout3(x)\n",
    "\n",
    "        x = F.relu(self.bn6(self.conv6(x)))\n",
    "        x = F.relu(self.bn7(self.conv7(x)))\n",
    "        x = F.relu(self.bn8(self.conv8(x)))\n",
    "\n",
    "        x = torch.mean(x, dim=[2, 3])  # Global Average Pooling across height & width\n",
    "        x = self.dropout4(x)\n",
    "        x = self.fc(x)\n",
    "        return x\n",
    "\n",
    "\n",
    "# Model initialization\n",
    "model = CNNModel()\n",
    "summary(model, input_size=(64,129, 63))  # Batch size 64\n"
   ]
  },
  {
   "cell_type": "markdown",
   "metadata": {},
   "source": [
    "# Handling Class Imbalance with SMOTE\n",
    "This section applies SMOTE to the training data to handle class imbalance before training the model.  \n",
    "The model was predincting only the top three classes(frequency wise) and hence performed really well on accuracy but had really poor precision and f1 score so this was an attempt to fix that\n"
   ]
  },
  {
   "cell_type": "code",
   "execution_count": 7,
   "metadata": {},
   "outputs": [
    {
     "data": {
      "text/plain": [
       "(6289, 129, 63)"
      ]
     },
     "execution_count": 7,
     "metadata": {},
     "output_type": "execute_result"
    }
   ],
   "source": [
    "features.shape"
   ]
  },
  {
   "cell_type": "code",
   "execution_count": 8,
   "metadata": {},
   "outputs": [
    {
     "name": "stdout",
     "output_type": "stream",
     "text": [
      "Using device: cuda\n"
     ]
    }
   ],
   "source": [
    "import torch\n",
    "import numpy as np\n",
    "from imblearn.over_sampling import SMOTE\n",
    "from sklearn.model_selection import train_test_split\n",
    "from sklearn.utils import shuffle\n",
    "from torch.utils.data import TensorDataset, DataLoader\n",
    "import torch.nn.functional as F\n",
    "\n",
    "\n",
    "# Check for GPU\n",
    "device = torch.device(\"cuda\" if torch.cuda.is_available() else \"cpu\")\n",
    "print(f\"Using device: {device}\")\n",
    "\n",
    "X = np.array(features, dtype=np.float32)\n",
    "y = np.array(labels, dtype=np.int64) \n",
    "\n",
    "X_train, X_val, y_train, y_val = train_test_split(X, y, test_size=0.1, random_state=42)\n",
    "X_train, y_train = shuffle(X_train, y_train, random_state=42)\n",
    "X_val, y_val = shuffle(X_val, y_val, random_state=42)\n",
    "\n",
    "from torch.utils.data import DataLoader, WeightedRandomSampler\n",
    "import torch\n",
    "# Compute class weights (inverse frequency)\n",
    "class_counts = np.bincount(y_train)  # Count occurrences per class\n",
    "class_weights = 1.0 / class_counts\n",
    "weights = class_weights[y_train]  # Assign weights to each sample\n",
    "# Create sampler\n",
    "sampler = WeightedRandomSampler(weights, len(weights))\n",
    "\n",
    "X_train_tensor = torch.tensor(X_train, dtype=torch.float32, device=device)\n",
    "y_train_tensor = torch.tensor(y_train, dtype=torch.long, device=device)\n",
    "X_val_tensor = torch.tensor(X_val, dtype=torch.float32, device=device)\n",
    "y_val_tensor = torch.tensor(y_val, dtype=torch.long, device=device)\n",
    "\n",
    "batch_size = 64  \n",
    "\n",
    "train_dataset = TensorDataset(X_train_tensor, y_train_tensor)\n",
    "val_dataset = TensorDataset(X_val_tensor, y_val_tensor)\n",
    "train_loader = DataLoader(train_dataset, batch_size=batch_size,sampler=sampler)\n",
    "val_loader = DataLoader(val_dataset, batch_size=batch_size, shuffle=False)"
   ]
  },
  {
   "cell_type": "code",
   "execution_count": 14,
   "metadata": {},
   "outputs": [],
   "source": [
    "device = torch.device(\"cuda\" if torch.cuda.is_available() else \"cpu\")\n",
    "\n",
    "model = model.to(device)  # Ensure model is on GPU\n",
    "optimizer = torch.optim.Adam(model.parameters(), lr=0.001)\n",
    "criterion = torch.nn.CrossEntropyLoss()"
   ]
  },
  {
   "cell_type": "code",
   "execution_count": 7,
   "metadata": {},
   "outputs": [
    {
     "name": "stdout",
     "output_type": "stream",
     "text": [
      "|===========================================================================|\n",
      "|                  PyTorch CUDA memory summary, device ID 0                 |\n",
      "|---------------------------------------------------------------------------|\n",
      "|            CUDA OOMs: 0            |        cudaMalloc retries: 0         |\n",
      "|===========================================================================|\n",
      "|        Metric         | Cur Usage  | Peak Usage | Tot Alloc  | Tot Freed  |\n",
      "|---------------------------------------------------------------------------|\n",
      "| Allocated memory      |  16137 KiB |    772 MiB |   5956 MiB |   5941 MiB |\n",
      "|       from large pool |  14080 KiB |    770 MiB |   5953 MiB |   5940 MiB |\n",
      "|       from small pool |   2057 KiB |      3 MiB |      3 MiB |      1 MiB |\n",
      "|---------------------------------------------------------------------------|\n",
      "| Active memory         |  16137 KiB |    772 MiB |   5956 MiB |   5941 MiB |\n",
      "|       from large pool |  14080 KiB |    770 MiB |   5953 MiB |   5940 MiB |\n",
      "|       from small pool |   2057 KiB |      3 MiB |      3 MiB |      1 MiB |\n",
      "|---------------------------------------------------------------------------|\n",
      "| Requested memory      |  16131 KiB |    772 MiB |   5955 MiB |   5940 MiB |\n",
      "|       from large pool |  14080 KiB |    770 MiB |   5952 MiB |   5939 MiB |\n",
      "|       from small pool |   2051 KiB |      3 MiB |      3 MiB |      1 MiB |\n",
      "|---------------------------------------------------------------------------|\n",
      "| GPU reserved memory   |   1044 MiB |   1044 MiB |   1044 MiB |      0 B   |\n",
      "|       from large pool |   1040 MiB |   1040 MiB |   1040 MiB |      0 B   |\n",
      "|       from small pool |      4 MiB |      4 MiB |      4 MiB |      0 B   |\n",
      "|---------------------------------------------------------------------------|\n",
      "| Non-releasable memory |   8438 KiB | 219526 KiB |    841 MiB |    833 MiB |\n",
      "|       from large pool |   6400 KiB | 217488 KiB |    836 MiB |    829 MiB |\n",
      "|       from small pool |   2038 KiB |   2047 KiB |      5 MiB |      3 MiB |\n",
      "|---------------------------------------------------------------------------|\n",
      "| Allocations           |      59    |      63    |      97    |      38    |\n",
      "|       from large pool |       4    |       7    |      38    |      34    |\n",
      "|       from small pool |      55    |      58    |      59    |       4    |\n",
      "|---------------------------------------------------------------------------|\n",
      "| Active allocs         |      59    |      63    |      97    |      38    |\n",
      "|       from large pool |       4    |       7    |      38    |      34    |\n",
      "|       from small pool |      55    |      58    |      59    |       4    |\n",
      "|---------------------------------------------------------------------------|\n",
      "| GPU reserved segments |       8    |       8    |       8    |       0    |\n",
      "|       from large pool |       6    |       6    |       6    |       0    |\n",
      "|       from small pool |       2    |       2    |       2    |       0    |\n",
      "|---------------------------------------------------------------------------|\n",
      "| Non-releasable allocs |       3    |       5    |      27    |      24    |\n",
      "|       from large pool |       2    |       4    |      24    |      22    |\n",
      "|       from small pool |       1    |       2    |       3    |       2    |\n",
      "|---------------------------------------------------------------------------|\n",
      "| Oversize allocations  |       0    |       0    |       0    |       0    |\n",
      "|---------------------------------------------------------------------------|\n",
      "| Oversize GPU segments |       0    |       0    |       0    |       0    |\n",
      "|===========================================================================|\n",
      "\n"
     ]
    }
   ],
   "source": [
    "import torch\n",
    "# torch.cuda.empty_cache()\n",
    "print(torch.cuda.memory_summary(device=None, abbreviated=False))"
   ]
  },
  {
   "cell_type": "code",
   "execution_count": 11,
   "metadata": {},
   "outputs": [
    {
     "data": {
      "text/plain": [
       "Class ID\n",
       "2    1791\n",
       "0    1690\n",
       "3    1133\n",
       "1     632\n",
       "4     593\n",
       "5     236\n",
       "6     214\n",
       "Name: count, dtype: int64"
      ]
     },
     "execution_count": 11,
     "metadata": {},
     "output_type": "execute_result"
    }
   ],
   "source": [
    "df_train['Class ID'].value_counts()"
   ]
  },
  {
   "cell_type": "markdown",
   "metadata": {},
   "source": [
    "# Training the Model\n",
    "This section trains the model on the resampled training data and validates it using early stopping."
   ]
  },
  {
   "cell_type": "code",
   "execution_count": 12,
   "metadata": {},
   "outputs": [
    {
     "name": "stdout",
     "output_type": "stream",
     "text": [
      "Epoch 1, Loss: 114.2876, Val Loss: 9.7145, Val Acc: 0.6328\n",
      "Epoch 2, Loss: 85.7388, Val Loss: 7.8666, Val Acc: 0.7202\n",
      "Epoch 3, Loss: 68.3789, Val Loss: 6.1688, Val Acc: 0.8108\n",
      "Epoch 4, Loss: 62.5782, Val Loss: 10.2903, Val Acc: 0.6518\n",
      "Epoch 5, Loss: 53.9904, Val Loss: 7.2943, Val Acc: 0.7488\n",
      "Epoch 6, Loss: 50.1907, Val Loss: 7.3479, Val Acc: 0.7599\n",
      "Epoch 7, Loss: 44.2317, Val Loss: 17.1524, Val Acc: 0.5310\n",
      "Epoch 8, Loss: 43.7879, Val Loss: 5.2989, Val Acc: 0.8394\n",
      "Epoch 9, Loss: 41.2577, Val Loss: 6.9817, Val Acc: 0.7838\n",
      "Epoch 10, Loss: 36.4425, Val Loss: 9.3082, Val Acc: 0.6948\n",
      "Epoch 11, Loss: 34.9630, Val Loss: 4.4534, Val Acc: 0.8506\n",
      "Epoch 12, Loss: 35.1251, Val Loss: 6.9824, Val Acc: 0.7695\n",
      "Epoch 13, Loss: 32.7794, Val Loss: 4.3332, Val Acc: 0.8553\n",
      "Epoch 14, Loss: 30.9341, Val Loss: 5.6364, Val Acc: 0.8235\n",
      "Epoch 15, Loss: 28.5508, Val Loss: 6.2006, Val Acc: 0.8140\n",
      "Epoch 16, Loss: 29.9603, Val Loss: 7.4028, Val Acc: 0.7615\n",
      "Epoch 17, Loss: 25.3990, Val Loss: 4.9686, Val Acc: 0.8506\n",
      "Epoch 18, Loss: 24.8993, Val Loss: 4.9123, Val Acc: 0.8442\n",
      "Epoch 19, Loss: 23.4918, Val Loss: 6.3999, Val Acc: 0.8251\n",
      "Epoch 20, Loss: 23.4444, Val Loss: 4.8983, Val Acc: 0.8442\n",
      "Epoch 21, Loss: 23.9449, Val Loss: 5.2822, Val Acc: 0.8521\n",
      "Epoch 22, Loss: 22.3501, Val Loss: 6.2012, Val Acc: 0.7758\n",
      "Epoch 23, Loss: 21.9701, Val Loss: 7.1756, Val Acc: 0.8156\n",
      "Epoch 24, Loss: 19.7852, Val Loss: 4.5304, Val Acc: 0.8537\n",
      "Epoch 25, Loss: 18.0109, Val Loss: 3.5633, Val Acc: 0.8792\n",
      "Epoch 26, Loss: 15.9105, Val Loss: 12.8196, Val Acc: 0.6948\n",
      "Epoch 27, Loss: 19.3024, Val Loss: 3.6540, Val Acc: 0.8935\n",
      "Epoch 28, Loss: 14.9251, Val Loss: 3.7362, Val Acc: 0.9046\n",
      "Epoch 29, Loss: 15.8268, Val Loss: 4.7396, Val Acc: 0.8315\n",
      "Epoch 30, Loss: 15.9066, Val Loss: 4.4802, Val Acc: 0.8617\n",
      "Epoch 31, Loss: 15.7641, Val Loss: 11.8161, Val Acc: 0.7091\n",
      "Epoch 32, Loss: 14.5845, Val Loss: 3.4038, Val Acc: 0.9014\n",
      "Epoch 33, Loss: 13.4165, Val Loss: 4.8295, Val Acc: 0.8633\n",
      "Epoch 34, Loss: 13.7849, Val Loss: 3.5805, Val Acc: 0.8951\n",
      "Epoch 35, Loss: 13.0323, Val Loss: 4.4199, Val Acc: 0.8839\n",
      "Epoch 36, Loss: 12.9167, Val Loss: 5.1097, Val Acc: 0.8331\n",
      "Epoch 37, Loss: 12.1664, Val Loss: 3.2275, Val Acc: 0.8998\n",
      "Epoch 38, Loss: 9.8459, Val Loss: 3.6076, Val Acc: 0.8808\n",
      "Epoch 39, Loss: 13.0612, Val Loss: 4.5200, Val Acc: 0.8680\n",
      "Epoch 40, Loss: 11.1906, Val Loss: 3.2833, Val Acc: 0.8998\n",
      "Epoch 41, Loss: 11.1202, Val Loss: 3.3445, Val Acc: 0.8967\n",
      "Epoch 42, Loss: 9.2051, Val Loss: 3.0826, Val Acc: 0.9062\n",
      "Epoch 43, Loss: 8.3396, Val Loss: 8.0496, Val Acc: 0.8267\n",
      "Epoch 44, Loss: 8.0393, Val Loss: 3.5247, Val Acc: 0.9094\n",
      "Epoch 45, Loss: 7.4599, Val Loss: 4.5002, Val Acc: 0.8808\n",
      "Epoch 46, Loss: 8.9886, Val Loss: 4.6068, Val Acc: 0.8744\n",
      "Epoch 47, Loss: 9.1705, Val Loss: 5.6240, Val Acc: 0.8633\n",
      "Epoch 48, Loss: 6.8512, Val Loss: 4.9359, Val Acc: 0.8680\n",
      "Epoch 49, Loss: 7.3927, Val Loss: 4.1594, Val Acc: 0.8919\n",
      "Epoch 50, Loss: 7.5677, Val Loss: 4.1390, Val Acc: 0.8887\n",
      "Best model loaded for evaluation.\n"
     ]
    }
   ],
   "source": [
    "epochs = 50\n",
    "patience = 16  # Number of epochs to wait before stopping if no improvement\n",
    "best_val_loss = float('inf')\n",
    "epochs_no_improve = 0\n",
    "best_model_path = \"best_model.pth\"  # Path to save the best model\n",
    "\n",
    "for epoch in range(epochs):\n",
    "    model.train()\n",
    "    running_loss = 0.0\n",
    "    for X_batch, y_batch in train_loader:\n",
    "        optimizer.zero_grad()\n",
    "        outputs = model(X_batch)\n",
    "        loss = criterion(outputs, y_batch)\n",
    "        loss.backward()\n",
    "        optimizer.step()\n",
    "        running_loss += loss.item()\n",
    "\n",
    "    # Validation\n",
    "    model.eval()\n",
    "    correct, total = 0, 0\n",
    "    val_loss = 0.0\n",
    "    with torch.no_grad():\n",
    "        for X_batch, y_batch in val_loader:\n",
    "            outputs = model(X_batch)\n",
    "            loss = criterion(outputs, y_batch)\n",
    "            val_loss += loss.item()\n",
    "            preds = torch.argmax(outputs, dim=1)\n",
    "            correct += (preds == y_batch).sum().item()\n",
    "            total += y_batch.size(0)\n",
    "\n",
    "    val_acc = correct / total\n",
    "    print(f\"Epoch {epoch+1}, Loss: {running_loss:.4f}, Val Loss: {val_loss:.4f}, Val Acc: {val_acc:.4f}\")\n",
    "\n",
    "    # Early stopping check\n",
    "    if val_loss < best_val_loss:\n",
    "        best_val_loss = val_loss\n",
    "        epochs_no_improve = 0  # Reset counter if improvement\n",
    "        torch.save(model.state_dict(), best_model_path)  # Save best model\n",
    "        # print(f\"Best model saved at epoch {epoch+1}.\")\n",
    "    else:\n",
    "        epochs_no_improve += 1\n",
    "\n",
    "    if epochs_no_improve >= patience:\n",
    "        print(f\"Early stopping triggered after {epoch+1} epochs.\")\n",
    "        break  # Stop training\n",
    "\n",
    "# Load best model after training\n",
    "model.load_state_dict(torch.load(best_model_path))\n",
    "print(\"Best model loaded for evaluation.\")\n"
   ]
  },
  {
   "cell_type": "markdown",
   "metadata": {},
   "source": [
    "# Loading and Standardizing Test Features\n",
    "This section loads the test audio files, extracts features, and standardizes them for evaluation."
   ]
  },
  {
   "cell_type": "code",
   "execution_count": 8,
   "metadata": {},
   "outputs": [
    {
     "data": {
      "text/html": [
       "<div>\n",
       "<style scoped>\n",
       "    .dataframe tbody tr th:only-of-type {\n",
       "        vertical-align: middle;\n",
       "    }\n",
       "\n",
       "    .dataframe tbody tr th {\n",
       "        vertical-align: top;\n",
       "    }\n",
       "\n",
       "    .dataframe thead th {\n",
       "        text-align: right;\n",
       "    }\n",
       "</style>\n",
       "<table border=\"1\" class=\"dataframe\">\n",
       "  <thead>\n",
       "    <tr style=\"text-align: right;\">\n",
       "      <th></th>\n",
       "      <th>Filename</th>\n",
       "      <th>File_ID</th>\n",
       "      <th>Durationin ms</th>\n",
       "      <th>Class_id</th>\n",
       "      <th>Classname</th>\n",
       "      <th>source</th>\n",
       "    </tr>\n",
       "  </thead>\n",
       "  <tbody>\n",
       "    <tr>\n",
       "      <th>0</th>\n",
       "      <td>112557-2_0_0.wav</td>\n",
       "      <td>112557</td>\n",
       "      <td>4000</td>\n",
       "      <td>0</td>\n",
       "      <td>breath</td>\n",
       "      <td>https://freesound.org/</td>\n",
       "    </tr>\n",
       "    <tr>\n",
       "      <th>1</th>\n",
       "      <td>112557-3_0_0.wav</td>\n",
       "      <td>112557</td>\n",
       "      <td>3950</td>\n",
       "      <td>0</td>\n",
       "      <td>breath</td>\n",
       "      <td>https://freesound.org/</td>\n",
       "    </tr>\n",
       "    <tr>\n",
       "      <th>2</th>\n",
       "      <td>112557-4_0_0.wav</td>\n",
       "      <td>112557</td>\n",
       "      <td>3910</td>\n",
       "      <td>0</td>\n",
       "      <td>breath</td>\n",
       "      <td>https://freesound.org/</td>\n",
       "    </tr>\n",
       "    <tr>\n",
       "      <th>3</th>\n",
       "      <td>140301_0_0.wav</td>\n",
       "      <td>140301</td>\n",
       "      <td>2261</td>\n",
       "      <td>0</td>\n",
       "      <td>breath</td>\n",
       "      <td>https://freesound.org/</td>\n",
       "    </tr>\n",
       "    <tr>\n",
       "      <th>4</th>\n",
       "      <td>144128-1_0_0.wav</td>\n",
       "      <td>144128</td>\n",
       "      <td>3770</td>\n",
       "      <td>0</td>\n",
       "      <td>breath</td>\n",
       "      <td>https://freesound.org/</td>\n",
       "    </tr>\n",
       "  </tbody>\n",
       "</table>\n",
       "</div>"
      ],
      "text/plain": [
       "           Filename  File_ID  Durationin ms  Class_id Classname  \\\n",
       "0  112557-2_0_0.wav   112557           4000         0    breath   \n",
       "1  112557-3_0_0.wav   112557           3950         0    breath   \n",
       "2  112557-4_0_0.wav   112557           3910         0    breath   \n",
       "3    140301_0_0.wav   140301           2261         0    breath   \n",
       "4  144128-1_0_0.wav   144128           3770         0    breath   \n",
       "\n",
       "                   source  \n",
       "0  https://freesound.org/  \n",
       "1  https://freesound.org/  \n",
       "2  https://freesound.org/  \n",
       "3  https://freesound.org/  \n",
       "4  https://freesound.org/  "
      ]
     },
     "execution_count": 8,
     "metadata": {},
     "output_type": "execute_result"
    }
   ],
   "source": [
    "df_test =pd.read_csv('metadata of test set.csv')\n",
    "df_test.drop([ 'Augment Id','Augmentation type'], axis=1, inplace=True)\n",
    "df_test.head(5)"
   ]
  },
  {
   "cell_type": "code",
   "execution_count": 9,
   "metadata": {},
   "outputs": [
    {
     "name": "stderr",
     "output_type": "stream",
     "text": [
      "Loading : 100%|██████████| 725/725 [00:11<00:00, 64.68it/s] \n"
     ]
    }
   ],
   "source": [
    "features_test = []\n",
    "labels_test = []\n",
    "\n",
    "for i, row in tqdm.tqdm(df_test.iterrows(), desc='Loading : ', total=len(df_test)):\n",
    "    path = 'test/' + row['Filename']\n",
    "    y,sr=librosa.load(path,sr=8000)\n",
    "    y = librosa.util.fix_length(y, size=8000*4)  # Ensure 4s length\n",
    "    y = normalize_audio(y)\n",
    "    extracted_features_test = extract_features(y,sr)\n",
    "    features_test.append(extracted_features_test)\n",
    "    labels_test.append(row['Class_id'])\n",
    " "
   ]
  },
  {
   "cell_type": "code",
   "execution_count": 10,
   "metadata": {},
   "outputs": [
    {
     "name": "stdout",
     "output_type": "stream",
     "text": [
      "Final Feature Shape: (725, 129, 63)\n"
     ]
    }
   ],
   "source": [
    "# Convert to NumPy array\n",
    "features_test = np.array(features_test)\n",
    "\n",
    "print(\"Final Feature Shape:\", features_test.shape)\n"
   ]
  },
  {
   "cell_type": "code",
   "execution_count": 11,
   "metadata": {},
   "outputs": [],
   "source": [
    "X_test =features_test\n",
    "y_test =labels_test\n",
    "X_test = np.array(X_test) \n",
    "y_test = np.array(y_test) \n"
   ]
  },
  {
   "cell_type": "markdown",
   "metadata": {},
   "source": [
    "# Evaluating Model Performance\n",
    "This section evaluates the model's performance on the test data using precision, recall, F1 score, and confusion matrix."
   ]
  },
  {
   "cell_type": "code",
   "execution_count": 12,
   "metadata": {},
   "outputs": [
    {
     "name": "stdout",
     "output_type": "stream",
     "text": [
      "Best model loaded for evaluation.\n"
     ]
    }
   ],
   "source": [
    "# Load best model after training\n",
    "best_model_path = \"best_model.pth\"  # Path to save the best model\n",
    "\n",
    "model.load_state_dict(torch.load(best_model_path))\n",
    "print(\"Best model loaded for evaluation.\")"
   ]
  },
  {
   "cell_type": "code",
   "execution_count": 16,
   "metadata": {},
   "outputs": [
    {
     "name": "stdout",
     "output_type": "stream",
     "text": [
      "Test Loss: 1.0699, Test Accuracy: 0.6841\n"
     ]
    }
   ],
   "source": [
    "X_test_tensor = torch.tensor(X_test, dtype=torch.float32)\n",
    "y_test_tensor = torch.tensor(y_test, dtype=torch.long)  # Assuming labels are integers\n",
    "\n",
    "# Move tensors to GPU if available\n",
    "device = torch.device(\"cuda\" if torch.cuda.is_available() else \"cpu\")\n",
    "X_test_tensor, y_test_tensor = X_test_tensor.to(device), y_test_tensor.to(device)\n",
    "\n",
    "model.eval()\n",
    "# Disable gradient computation for testing\n",
    "with torch.no_grad():\n",
    "    outputs = model(X_test_tensor)  # Forward pass\n",
    "    test_loss = criterion(outputs, y_test_tensor)  # Compute loss\n",
    "    preds = torch.argmax(outputs, dim=1)  # Get predicted class\n",
    "    correct = (preds == y_test_tensor).sum().item()\n",
    "    total = y_test_tensor.size(0)\n",
    "\n",
    "    test_acc = correct / total  # Compute accuracy\n",
    "\n",
    "print(f\"Test Loss: {test_loss:.4f}, Test Accuracy: {test_acc:.4f}\")"
   ]
  },
  {
   "cell_type": "code",
   "execution_count": null,
   "metadata": {},
   "outputs": [
    {
     "name": "stdout",
     "output_type": "stream",
     "text": [
      "              precision    recall  f1-score   support\n",
      "\n",
      "           0       0.94      0.55      0.69       160\n",
      "           1       0.54      0.89      0.67        70\n",
      "           2       0.92      0.47      0.62       205\n",
      "           3       0.71      0.87      0.78       140\n",
      "           4       0.55      0.89      0.68        70\n",
      "           5       0.49      0.80      0.61        30\n",
      "           6       0.53      0.82      0.65        50\n",
      "\n",
      "    accuracy                           0.68       725\n",
      "   macro avg       0.67      0.76      0.67       725\n",
      "weighted avg       0.76      0.68      0.68       725\n",
      "\n",
      "Test Loss: 1.0699, Test Accuracy: 0.6841\n",
      "Precision: 0.7648\n",
      "Recall: 0.6841\n",
      "F1 Score: 0.6805\n"
     ]
    },
    {
     "ename": "",
     "evalue": "",
     "output_type": "error",
     "traceback": [
      "\u001b[1;31mThe Kernel crashed while executing code in the current cell or a previous cell. \n",
      "\u001b[1;31mPlease review the code in the cell(s) to identify a possible cause of the failure. \n",
      "\u001b[1;31mClick <a href='https://aka.ms/vscodeJupyterKernelCrash'>here</a> for more info. \n",
      "\u001b[1;31mView Jupyter <a href='command:jupyter.viewOutput'>log</a> for further details."
     ]
    }
   ],
   "source": [
    "from sklearn.metrics import precision_score, recall_score, f1_score, classification_report\n",
    "\n",
    "model.eval()\n",
    "\n",
    "# Disable gradient computation for testing\n",
    "with torch.no_grad():\n",
    "    outputs = model(X_test_tensor)  # Forward pass\n",
    "    test_loss = criterion(outputs, y_test_tensor)  # Compute loss\n",
    "    y_pred_classes = torch.argmax(outputs, dim=1)  # Get predicted class\n",
    "    correct = (preds == y_test_tensor).sum().item()\n",
    "    total = y_test_tensor.size(0)\n",
    "    test_acc = correct / total  # Compute accuracy\n",
    "\n",
    "\n",
    "# Move tensors to CPU and convert to NumPy arrays\n",
    "y_test_np = y_test_tensor.cpu().numpy()\n",
    "y_pred_np = y_pred_classes.cpu().numpy()\n",
    "\n",
    "# Compute precision, recall, and F1-score\n",
    "precision = precision_score(y_test_np, y_pred_np, average='weighted')\n",
    "recall = recall_score(y_test_np, y_pred_np, average='weighted')\n",
    "f1 = f1_score(y_test_np, y_pred_np, average='weighted')\n",
    "\n",
    "# Print classification report\n",
    "print(classification_report(y_test_np, y_pred_np))\n",
    "print(f\"Test Loss: {test_loss:.4f}, Test Accuracy: {test_acc:.4f}\")\n",
    "print(f\"Precision: {precision:.4f}\")\n",
    "print(f\"Recall: {recall:.4f}\")\n",
    "print(f\"F1 Score: {f1:.4f}\")"
   ]
  },
  {
   "cell_type": "code",
   "execution_count": 26,
   "metadata": {},
   "outputs": [
    {
     "data": {
      "image/png": "[encoded data removed]",
      "text/plain": [
       "<Figure size 800x600 with 2 Axes>"
      ]
     },
     "metadata": {},
     "output_type": "display_data"
    }
   ],
   "source": [
    "import seaborn as sns\n",
    "import matplotlib.pyplot as plt\n",
    "from sklearn.metrics import confusion_matrix\n",
    "import torch\n",
    "\n",
    "# Ensure predictions and true labels are on CPU and converted to numpy\n",
    "y_pred_classes = y_pred_classes.cpu().numpy() if isinstance(y_pred_classes, torch.Tensor) else y_pred_classes\n",
    "# y_true = y_test.cpu().numpy() if isinstance(y_test, torch.Tensor) else y_test\n",
    "\n",
    "# Compute confusion matrix\n",
    "cm = confusion_matrix(y_test, y_pred_classes)\n",
    "\n",
    "# Plot confusion matrix using seaborn\n",
    "plt.figure(figsize=(8, 6))\n",
    "sns.heatmap(cm, annot=True, fmt=\"d\", cmap=\"Blues\", xticklabels=range(7), yticklabels=range(7))\n",
    "\n",
    "plt.xlabel(\"Predicted\")\n",
    "plt.ylabel(\"True\")\n",
    "plt.title(\"Confusion Matrix\")\n",
    "plt.show()\n"
   ]
  },
  {
   "cell_type": "code",
   "execution_count": 25,
   "metadata": {},
   "outputs": [
    {
     "ename": "SyntaxError",
     "evalue": "invalid syntax (3830206545.py, line 4)",
     "output_type": "error",
     "traceback": [
      "\u001b[1;36m  Cell \u001b[1;32mIn[25], line 4\u001b[1;36m\u001b[0m\n\u001b[1;33m    F1 Score: 0.7703\u001b[0m\n\u001b[1;37m       ^\u001b[0m\n\u001b[1;31mSyntaxError\u001b[0m\u001b[1;31m:\u001b[0m invalid syntax\n"
     ]
    }
   ],
   "source": [
    "#with delta_mfcc n=13\n",
    "Precision: 0.8116\n",
    "Recall: 0.7531\n",
    "F1 Score: 0.7703\n",
    "\n",
    "#no -mfcc\n",
    "\n",
    "\n"
   ]
  }
 ],
 "metadata": {
  "kernelspec": {
   "display_name": "Python 3",
   "language": "python",
   "name": "python3"
  },
  "language_info": {
   "codemirror_mode": {
    "name": "ipython",
    "version": 3
   },
   "file_extension": ".py",
   "mimetype": "text/x-python",
   "name": "python",
   "nbconvert_exporter": "python",
   "pygments_lexer": "ipython3",
   "version": "3.12.4"
  }
 },
 "nbformat": 4,
 "nbformat_minor": 2
}
